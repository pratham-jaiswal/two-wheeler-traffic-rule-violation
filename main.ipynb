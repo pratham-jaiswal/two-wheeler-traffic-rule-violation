{
  "nbformat": 4,
  "nbformat_minor": 0,
  "metadata": {
    "colab": {
      "provenance": []
    },
    "kernelspec": {
      "name": "python3",
      "display_name": "Python 3"
    },
    "language_info": {
      "name": "python"
    }
  },
  "cells": [
    {
      "cell_type": "code",
      "source": [
        "!pip install python-dotenv super_image inference-sdk"
      ],
      "metadata": {
        "collapsed": true,
        "id": "a6ir-R9ZkIna"
      },
      "execution_count": null,
      "outputs": []
    },
    {
      "cell_type": "code",
      "source": [
        "!pip uninstall huggingface_hub -y"
      ],
      "metadata": {
        "id": "PNbdKDoknr89",
        "collapsed": true
      },
      "execution_count": null,
      "outputs": []
    },
    {
      "cell_type": "code",
      "source": [
        "!pip install huggingface_hub==0.25.2"
      ],
      "metadata": {
        "collapsed": true,
        "id": "FewShhMznmSb"
      },
      "execution_count": null,
      "outputs": []
    },
    {
      "cell_type": "code",
      "source": [
        "from google.colab import drive\n",
        "drive.mount('/content/drive')"
      ],
      "metadata": {
        "id": "FkgH0aY1kl4F"
      },
      "execution_count": null,
      "outputs": []
    },
    {
      "cell_type": "code",
      "source": [
        "import warnings\n",
        "warnings.filterwarnings('ignore')\n",
        "\n",
        "load_dotenv()"
      ],
      "metadata": {
        "id": "vGbVAoGb8l7N"
      },
      "execution_count": null,
      "outputs": []
    },
    {
      "cell_type": "code",
      "execution_count": null,
      "metadata": {
        "id": "XD-IsUkIjtva"
      },
      "outputs": [],
      "source": [
        "import os\n",
        "from PIL import Image, ImageDraw\n",
        "import cv2\n",
        "from datetime import datetime, timezone, timedelta\n",
        "import requests\n",
        "import json\n",
        "import re\n",
        "from tqdm import tqdm\n",
        "from dotenv import load_dotenv\n",
        "from inference_sdk import InferenceHTTPClient, InferenceConfiguration\n",
        "from super_image import DrlnModel, ImageLoader\n",
        "import getpass"
      ]
    },
    {
      "cell_type": "code",
      "source": [
        "def _set_if_undefined(var: str):\n",
        "    if not os.environ.get(var):\n",
        "        os.environ[var] = getpass.getpass(f\"Please provide your {var}\")\n",
        "\n",
        "_set_if_undefined(\"ROBOFLOW_API_KEY\")\n",
        "_set_if_undefined(\"OCR_SPACE_API\")"
      ],
      "metadata": {
        "id": "3rw9UId28eCw"
      },
      "execution_count": null,
      "outputs": []
    },
    {
      "cell_type": "code",
      "source": [
        "def upscale_image(image_path, scale):\n",
        "    image = Image.open(image_path)\n",
        "\n",
        "    image_name = os.path.splitext(image_path)[0]\n",
        "\n",
        "    model = DrlnModel.from_pretrained('eugenesiow/drln', scale=scale)\n",
        "    inputs = ImageLoader.load_image(image)\n",
        "    preds = model(inputs)\n",
        "\n",
        "    ImageLoader.save_image(preds, f'{image_name}_{scale}x.png')"
      ],
      "metadata": {
        "id": "QgWNtXXkkDrD"
      },
      "execution_count": null,
      "outputs": []
    },
    {
      "cell_type": "code",
      "source": [
        "def ocr_space_file(filename, overlay, api_key, language):\n",
        "    payload = {\n",
        "                'isOverlayRequired': overlay,\n",
        "                'apikey': api_key,\n",
        "                'language': language,\n",
        "                'OCREngine': 2,\n",
        "            }\n",
        "    with open(filename, 'rb') as f:\n",
        "        r = requests.post('https://api.ocr.space/parse/image',\n",
        "                          files={filename: f},\n",
        "                          data=payload,\n",
        "                          )\n",
        "    data = json.loads(r.content.decode())\n",
        "    lpnum = data[\"ParsedResults\"][0][\"ParsedText\"].replace('\\n', '').replace('\\\\n', '').replace(' ', '')\n",
        "\n",
        "    return lpnum"
      ],
      "metadata": {
        "id": "pWLnsyy36w1D"
      },
      "execution_count": null,
      "outputs": []
    },
    {
      "cell_type": "code",
      "source": [
        "def draw_detections(p1, p2, p3, img):\n",
        "    class_colors = {\n",
        "        'helmet': 'blue',\n",
        "        'motorcyclist': 'green',\n",
        "        'license_plate': 'red',\n",
        "        'face': 'darkmagenta',\n",
        "        'front': 'darkgoldenrod',\n",
        "        'rear': 'darkorchid'\n",
        "    }\n",
        "\n",
        "    draw = ImageDraw.Draw(img)\n",
        "\n",
        "    preds = {'predictions': p1['predictions'] + p2['predictions'] + p3['predictions']}\n",
        "\n",
        "    for prediction in preds['predictions']:\n",
        "        x, y, width, height = (\n",
        "            prediction['x'],\n",
        "            prediction['y'],\n",
        "            prediction['width'],\n",
        "            prediction['height']\n",
        "        )\n",
        "\n",
        "        x1 = x - width / 2\n",
        "        y1 = y - height / 2\n",
        "        x2 = x + width / 2\n",
        "        y2 = y + height / 2\n",
        "\n",
        "        class_name = prediction['class']\n",
        "        confidence = prediction['confidence']\n",
        "\n",
        "        label_color = class_colors.get(class_name, 'black')\n",
        "\n",
        "        if class_name=='motorcyclist':\n",
        "            draw.rectangle([x1, y1, x2, y1+14], fill=label_color)\n",
        "            label_position = (x1 + 5, y1 + 2)\n",
        "        else:\n",
        "            draw.rectangle([x1, y1-14, x2, y1], fill=label_color)\n",
        "            label_position = (x1 + 5, y1-12)\n",
        "\n",
        "        draw.rectangle([x1, y1, x2, y2], outline=label_color, width=2)\n",
        "\n",
        "        label = f\"{class_name} ({confidence:.2f})\"\n",
        "        draw.text(label_position,label, fill='white')\n",
        "\n",
        "    return img"
      ],
      "metadata": {
        "id": "npio2H0C6ycb"
      },
      "execution_count": null,
      "outputs": []
    },
    {
      "cell_type": "code",
      "source": [
        "# Roboflow API keys\n",
        "roboflow_api_key = os.getenv(\"ROBOFLOW_API_KEY\")\n",
        "\n",
        "custom_configuration = InferenceConfiguration(confidence_threshold=0.4, iou_threshold=0.4)\n",
        "client1 = InferenceHTTPClient(\n",
        "    api_url=\"https://detect.roboflow.com\",\n",
        "    api_key=roboflow_api_key\n",
        ")\n",
        "client1.configure(custom_configuration)\n",
        "\n",
        "custom_configuration = InferenceConfiguration(confidence_threshold=0.4, iou_threshold=0.3)\n",
        "client2 = InferenceHTTPClient(\n",
        "    api_url=\"https://detect.roboflow.com\",\n",
        "    api_key=roboflow_api_key\n",
        ")\n",
        "client2.configure(custom_configuration)\n",
        "\n",
        "custom_configuration = InferenceConfiguration(confidence_threshold=0.1, iou_threshold=0.1)\n",
        "client3 = InferenceHTTPClient(\n",
        "    api_url=\"https://detect.roboflow.com\",\n",
        "    api_key=roboflow_api_key\n",
        ")\n",
        "client3.configure(custom_configuration)"
      ],
      "metadata": {
        "id": "kvmTXw7k6zrF"
      },
      "execution_count": null,
      "outputs": []
    },
    {
      "cell_type": "code",
      "source": [
        "video_path = './drive/MyDrive/inputtt.mp4'\n",
        "cap = cv2.VideoCapture(video_path)"
      ],
      "metadata": {
        "id": "QsiZsCOMmvh1"
      },
      "execution_count": null,
      "outputs": []
    },
    {
      "cell_type": "code",
      "source": [
        "# Get video details\n",
        "frame_width = int(cap.get(3))\n",
        "frame_height = int(cap.get(4))\n",
        "fps = cap.get(5)\n",
        "total_frames = int(cap.get(7))\n",
        "\n",
        "# Violate Date folder\n",
        "current_date = datetime.now(timezone.utc).astimezone(timezone(timedelta(hours=5, minutes=30))).strftime(\"%d-%m-%Y\")\n",
        "folder_path = os.path.join(os.getcwd(), f\"Violations/{current_date}\")\n",
        "os.makedirs(folder_path, exist_ok=True)"
      ],
      "metadata": {
        "id": "EtGBkPtO62Ol"
      },
      "execution_count": null,
      "outputs": []
    },
    {
      "cell_type": "code",
      "source": [
        "for frame_number in tqdm(range(0, total_frames, 200), desc=\"Processing frames\", unit=\"frames\"):\n",
        "    ret, frame = cap.read()\n",
        "    if not ret:\n",
        "        break\n",
        "\n",
        "    pil_frame = Image.fromarray(cv2.cvtColor(frame, cv2.COLOR_BGR2RGB))\n",
        "\n",
        "    image_path = \"temp_frame.jpg\"\n",
        "    pil_frame.save(image_path)\n",
        "\n",
        "    ## Can extremely slow down the process as the bigger the image the more resources it needs to be upscaled.\n",
        "    # upscale_image(image_path, 2)\n",
        "    # image_path = \"temp_frame_4x.png\"\n",
        "    # pil_frame = Image.open(image_path)\n",
        "\n",
        "    r1 = client1.infer(image_path, model_id=\"helmet-detection-project/13\")\n",
        "    pred1 = r1['predictions']\n",
        "\n",
        "    for pr1 in pred1:\n",
        "        helmet_detected = False\n",
        "        face_detected = False\n",
        "        rear_detected = False\n",
        "        more_than_two_detected = False\n",
        "        num_faces_detected = 0\n",
        "        num_helmets_detected = 0\n",
        "\n",
        "        if pr1['class'] == 'motorcyclist':\n",
        "            motorcyclist_x, motorcyclist_y, motorcyclist_width, motorcyclist_height = pr1['x'], pr1['y'], pr1['width'], pr1['height']\n",
        "\n",
        "            motorcyclist_x1, motorcyclist_y1 = int(motorcyclist_x - motorcyclist_width / 2), int(motorcyclist_y - motorcyclist_height / 2)\n",
        "            motorcyclist_x2, motorcyclist_y2 = int(motorcyclist_x + motorcyclist_width / 2), int(motorcyclist_y + motorcyclist_height / 2)\n",
        "\n",
        "            motorcyclist_image = pil_frame.crop((motorcyclist_x1, motorcyclist_y1, motorcyclist_x2, motorcyclist_y2))\n",
        "            motorcyclist_image.save(\"temp_motorcyclist_image.jpg\")\n",
        "\n",
        "            # Lane check\n",
        "            r3 = client3.infer(\"temp_motorcyclist_image.jpg\", model_id=\"two-wheeler-lane-detection/3\")\n",
        "            lane = r3\n",
        "\n",
        "            if lane['predictions']:\n",
        "                max_conf = max(lane['predictions'], key=lambda x: x['confidence'])\n",
        "                lane['predictions'] = [max_conf]\n",
        "\n",
        "            pred3 = lane['predictions']\n",
        "\n",
        "            for lane_prediction in pred3:\n",
        "                if lane_prediction['class'] == 'rear':\n",
        "                    rear_x, rear_y, rear_width, rear_height = lane_prediction['x'], lane_prediction['y'], lane_prediction['width'], lane_prediction['height']\n",
        "\n",
        "                    if motorcyclist_x1 < rear_x < motorcyclist_x2 and motorcyclist_y1 < rear_y < motorcyclist_y2:\n",
        "                        rear_detected = True\n",
        "                        break\n",
        "\n",
        "            # Face detected\n",
        "            r2 = client2.infer(\"temp_motorcyclist_image.jpg\", model_id=\"face-detection-mik1i/21\")\n",
        "            pred2 = r2['predictions']\n",
        "\n",
        "            for face_prediction in pred2:\n",
        "                if face_prediction['class'] == 'face':\n",
        "                    face_x, face_y, face_width, face_height = face_prediction['x'], face_prediction['y'], face_prediction['width'], face_prediction['height']\n",
        "\n",
        "                    if motorcyclist_x1 < face_x < motorcyclist_x2 and motorcyclist_y1 < face_y < motorcyclist_y2:\n",
        "                        num_faces_detected += 1\n",
        "\n",
        "                        # Avoid detecting helmet and face in same area and calculating number of people incorrectly\n",
        "                        for helmet_prediction in pred1:\n",
        "                            if helmet_prediction['class'] == 'helmet':\n",
        "                                helmet_x, helmet_y, helmet_width, helmet_height = helmet_prediction['x'], helmet_prediction['y'], helmet_prediction['width'], helmet_prediction['height']\n",
        "\n",
        "                                face_x1 = face_x - face_width / 2\n",
        "                                face_y1 = face_y - face_height / 2\n",
        "                                face_x2 = face_x + face_width / 2\n",
        "                                face_y2 = face_y + face_height / 2\n",
        "\n",
        "                                helmet_x1 = helmet_x - helmet_width / 2\n",
        "                                helmet_y1 = helmet_y - helmet_height / 2\n",
        "                                helmet_x2 = helmet_x + helmet_width / 2\n",
        "                                helmet_y2 = helmet_y + helmet_height / 2\n",
        "\n",
        "                                overlap_x1 = max(face_x, helmet_x)\n",
        "                                overlap_y1 = max(face_y, helmet_y)\n",
        "                                overlap_x2 = min(face_x + face_width, helmet_x + helmet_width)\n",
        "                                overlap_y2 = min(face_y + face_height, helmet_y + helmet_height)\n",
        "\n",
        "                                overlap_width = max(0, overlap_x2 - overlap_x1)\n",
        "                                overlap_height = max(0, overlap_y2 - overlap_y1)\n",
        "\n",
        "                                overlap_area = overlap_width * overlap_height\n",
        "\n",
        "                                face_area = face_width * face_height\n",
        "\n",
        "                                if overlap_area / face_area > 0.6:\n",
        "                                    num_faces_detected -= 1\n",
        "                                    break\n",
        "\n",
        "            if num_faces_detected > 0:\n",
        "                face_detected = True\n",
        "\n",
        "            # Helmet check\n",
        "            for helmet_prediction in pred1:\n",
        "                if helmet_prediction['class'] == 'helmet':\n",
        "                    helmet_x, helmet_y, helmet_width, helmet_height = helmet_prediction['x'], helmet_prediction['y'], helmet_prediction['width'], helmet_prediction['height']\n",
        "\n",
        "                    if motorcyclist_x1 < helmet_x < motorcyclist_x2 and motorcyclist_y1 < helmet_y < motorcyclist_y2:\n",
        "                        helmet_detected = True\n",
        "                        num_helmets_detected += 1\n",
        "\n",
        "            # More than two riding\n",
        "            if num_faces_detected + num_helmets_detected > 2:\n",
        "                more_than_two_detected = True\n",
        "\n",
        "            r4 = client1.infer(\"temp_motorcyclist_image.jpg\", model_id=\"helmet-detection-project/13\")\n",
        "            colored_motorcycle = draw_detections(r4, r2, lane, motorcyclist_image)\n",
        "\n",
        "            # Violated license plate\n",
        "            if not helmet_detected or face_detected or rear_detected or more_than_two_detected:\n",
        "\n",
        "                violation_names = []\n",
        "                if not helmet_detected or face_detected:\n",
        "                    violation_names.append('no_helmet')\n",
        "                if rear_detected:\n",
        "                    violation_names.append('wrong_lane')\n",
        "                if more_than_two_detected:\n",
        "                    violation_names.append('triple_riding')\n",
        "\n",
        "                timestamp = datetime.now(timezone.utc).astimezone(timezone(timedelta(hours=5, minutes=30))).strftime(\"%d-%m-%Y %H %M %S\")\n",
        "                image_name = \", \".join(violation_names) + f\" - {timestamp}\"\n",
        "                lp_detected = False\n",
        "\n",
        "                for pr11 in r4[\"predictions\"]:\n",
        "                    if pr11['class'] == 'license_plate':\n",
        "                        license_plate_x, license_plate_y, license_plate_width, license_plate_height = pr11['x'], pr11['y'], pr11['width'], pr11['height']\n",
        "                        license_plate_x1, license_plate_y1 = int(license_plate_x - license_plate_width / 2), int(license_plate_y - license_plate_height / 2)\n",
        "                        license_plate_x2, license_plate_y2 = int(license_plate_x + license_plate_width / 2), int(license_plate_y + license_plate_height / 2)\n",
        "\n",
        "                        license_plate_image = motorcyclist_image.crop((license_plate_x1, license_plate_y1, license_plate_x2, license_plate_y2))\n",
        "\n",
        "                        license_plate_image.save(\"temp_lp.jpg\")\n",
        "\n",
        "                        upscale_image(\"temp_lp.jpg\", 4)\n",
        "                        license_plate_image = Image.open(\"temp_lp_4x.png\")\n",
        "\n",
        "                        lpnum = ocr_space_file(filename=\"temp_lp_4x.png\", overlay=False, api_key=os.getenv(\"OCR_SPACE_API\"), language='eng')\n",
        "\n",
        "                        if lpnum.strip():\n",
        "                            image_name = lpnum + \" - \" + image_name\n",
        "                        else:\n",
        "                            image_name = image_name\n",
        "                        image_folder_path = os.path.join(folder_path, image_name)\n",
        "                        os.makedirs(image_folder_path, exist_ok=True)\n",
        "\n",
        "                        violated_motorcycle_image_path = os.path.join(image_folder_path, f\"{lpnum} - motorcyclist.jpg\")\n",
        "                        colored_motorcycle.save(violated_motorcycle_image_path)\n",
        "\n",
        "                        violated_motorcycle_lp_image_path = os.path.join(image_folder_path, f\"{lpnum} - license_plate.jpg\")\n",
        "                        license_plate_image.save(violated_motorcycle_lp_image_path)\n",
        "\n",
        "                        lp_text_path = os.path.join(image_folder_path, f\"{lpnum} - license_plate_number.txt\")\n",
        "                        with open(lp_text_path, 'w') as file:\n",
        "                            file.write(f\"Violated License Plate Number - {lpnum}\")\n",
        "\n",
        "                        lp_detected = True\n",
        "\n",
        "                        if os.path.exists(\"temp_lp.jpg\"):\n",
        "                            os.remove(\"temp_lp.jpg\")\n",
        "                        if os.path.exists(\"temp_lp_4x.png\"):\n",
        "                            os.remove(\"temp_lp_4x.png\")\n",
        "                        break\n",
        "\n",
        "                if not lp_detected:\n",
        "                    image_folder_path = os.path.join(folder_path, image_name)\n",
        "                    os.makedirs(image_folder_path, exist_ok=True)\n",
        "                    violated_motorcycle_image_path = os.path.join(image_folder_path, f\"motorcyclist.jpg\")\n",
        "\n",
        "                    colored_motorcycle.save(violated_motorcycle_image_path)"
      ],
      "metadata": {
        "id": "8C-RkzCblDIT"
      },
      "execution_count": null,
      "outputs": []
    },
    {
      "cell_type": "code",
      "source": [
        "if os.path.exists(\"temp_motorcyclist_image.jpg\"):\n",
        "    os.remove(\"temp_motorcyclist_image.jpg\")\n",
        "\n",
        "if os.path.exists(\"temp_frame.jpg\"):\n",
        "    os.remove(\"temp_frame.jpg\")\n",
        "\n",
        "if os.path.exists(\"temp_frame_4x.png\"):\n",
        "    os.remove(\"temp_frame_4x.png\")\n",
        "\n",
        "cap.release()\n",
        "\n",
        "print(\"Video processing completed.\")"
      ],
      "metadata": {
        "id": "C7BxXYUvkFU1"
      },
      "execution_count": null,
      "outputs": []
    }
  ]
}